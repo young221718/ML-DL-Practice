{
 "cells": [
  {
   "cell_type": "markdown",
   "metadata": {},
   "source": [
    "## Enviorment Import"
   ]
  },
  {
   "cell_type": "code",
   "execution_count": 2,
   "metadata": {},
   "outputs": [],
   "source": [
    "import torch\n",
    "import math\n",
    "from torch import nn"
   ]
  },
  {
   "cell_type": "markdown",
   "metadata": {},
   "source": [
    "## 전체적인 구조\n",
    "- 트랜스포머\n",
    "    - 인코더\n",
    "        - 멀티헤드 어텐션\n",
    "        - Add & Norm\n",
    "        - FPN\n",
    "        - Add & Norm\n",
    "    - 디코더\n",
    "        - 마스크 멀티헤드 어텐션\n",
    "        - Add & Norm\n",
    "        - 멀티헤드 어텐션\n",
    "        - Add & Norm\n",
    "        - FPN\n",
    "        - Add & Norm\n",
    "    - 리니어 레이어\n"
   ]
  },
  {
   "cell_type": "markdown",
   "metadata": {},
   "source": [
    "### MHA (Multi-Head Attention) "
   ]
  },
  {
   "cell_type": "code",
   "execution_count": 3,
   "metadata": {},
   "outputs": [],
   "source": [
    "class MHA(nn.Module):\n",
    "\n",
    "    def __init__(self, dim=512, head_num=8) -> None:\n",
    "        super().__init__()\n",
    "        self.head_num = head_num\n",
    "        self.dim = dim\n",
    "\n",
    "        self.query_embed = nn.Linear(dim, dim)\n",
    "        self.key_embed = nn.Linear(dim, dim)\n",
    "        self.value_embed = nn.Linear(dim, dim)\n",
    "        self.output_embed = nn.Linear(dim, dim)\n",
    "\n",
    "    def scaled_dot_product_attention(self, query, key, value, mask:bool=False, scale:int=None) -> torch.Tensor:\n",
    "\n",
    "        scale_factor = 1 / math.sqrt(query.size(-1)) if scale is None else scale\n",
    "        L, S = query.size(-2), key.size(-2)\n",
    "        attn_bias = torch.zeros(L, S, dtype=query.dtype)\n",
    "        if mask:\n",
    "            temp_mask = torch.ones(L, S, dtype=torch.bool).tril(diagonal=0)\n",
    "            attn_bias.masked_fill_(temp_mask.logical_not(), float(\"-inf\"))\n",
    "            attn_bias.to(query.dtype)\n",
    "\n",
    "        attn_weight = query @ key.transpose(-2,-1) / scale_factor\n",
    "        attn_weight += attn_bias # mask\n",
    "        attn_weight = torch.softmax(attn_weight, dim=-1)\n",
    "        attn_weight = attn_weight @ value\n",
    "  \n",
    "        return attn_weight\n",
    "\n",
    "    def transform(self, x):\n",
    "        batch_size = x.size(0)\n",
    "        \n",
    "        return x.view(batch_size, -1, self.head_num, self.dim // self.head_num).transpose(1, 2)\n",
    "    \n",
    "    def forward(self, query, key, value, mask:bool=False, scale:int=None) -> torch.Tensor:\n",
    "        batch_size = query.size(0)\n",
    "        # 순서 유지 때문에 view 후 transpose 사용\n",
    "\n",
    "        query = self.transform(self.query_embed(query))\n",
    "        key = self.transform(self.key_embed(key))\n",
    "        value = self.transform(self.value_embed(value))\n",
    "\n",
    "        output = self.scaled_dot_product_attention(query, key, value, mask, scale)\n",
    "        batch_num, head_num, seq_num, hidden_num = output.size()\n",
    "        output =output.transpose(1, 2).contiguous().view((batch_size, -1, hidden_num * self.head_num))\n",
    "        output = self.output_embed(output)\n",
    "  \n",
    "        return output"
   ]
  },
  {
   "cell_type": "code",
   "execution_count": 4,
   "metadata": {},
   "outputs": [
    {
     "data": {
      "text/plain": [
       "torch.Size([4, 10, 64])"
      ]
     },
     "execution_count": 4,
     "metadata": {},
     "output_type": "execute_result"
    }
   ],
   "source": [
    "# test scaled_dot_product_attention \n",
    "q = torch.rand((4,10,64))\n",
    "k = torch.rand((4,10,64))\n",
    "v = torch.rand((4,10,64))\n",
    "\n",
    "\n",
    "mha = MHA(64, 8)\n",
    "\n",
    "mha(q,k,v).shape"
   ]
  },
  {
   "cell_type": "markdown",
   "metadata": {},
   "source": [
    "### FFN (Feed Forward Network)"
   ]
  },
  {
   "cell_type": "code",
   "execution_count": 5,
   "metadata": {},
   "outputs": [],
   "source": [
    "class FFN(nn.Module):\n",
    "    def __init__(self, in_dim:int = 512, hidden_dim:int = 2048) -> None:\n",
    "        super().__init__()\n",
    "        self.fc1 = nn.Linear(in_dim, hidden_dim)\n",
    "        self.fc2 = nn.Linear(hidden_dim, in_dim)\n",
    "        self.relu = nn.ReLU()\n",
    "        \n",
    "    def forward(self, x):\n",
    "        x = self.fc1(x)\n",
    "        x = self.relu(x)\n",
    "        x = self.fc2(x)\n",
    "        \n",
    "        return x"
   ]
  },
  {
   "cell_type": "code",
   "execution_count": 6,
   "metadata": {},
   "outputs": [
    {
     "data": {
      "text/plain": [
       "torch.Size([4, 10, 64])"
      ]
     },
     "execution_count": 6,
     "metadata": {},
     "output_type": "execute_result"
    }
   ],
   "source": [
    "a = torch.rand((4,10,64))\n",
    "\n",
    "ffn = FFN(64, 256)\n",
    "ffn(a).shape"
   ]
  },
  {
   "cell_type": "markdown",
   "metadata": {},
   "source": [
    "### Add&Norm"
   ]
  },
  {
   "cell_type": "code",
   "execution_count": 7,
   "metadata": {},
   "outputs": [],
   "source": [
    "class AddNorm(nn.Module):\n",
    "    def __init__(self, dim) -> None:\n",
    "        super().__init__()\n",
    "        self.norm = nn.LayerNorm(dim)\n",
    "        \n",
    "    def forward(self, x1, x2):\n",
    "        return self.norm(x1 + x2)"
   ]
  },
  {
   "cell_type": "markdown",
   "metadata": {},
   "source": [
    "### Encoder"
   ]
  },
  {
   "cell_type": "code",
   "execution_count": 8,
   "metadata": {},
   "outputs": [],
   "source": [
    "class EncoderBlock(nn.Module):\n",
    "    def __init__(self, dim:int=512, hidden_dim:int=256, head_num:int=8) -> None:\n",
    "        super().__init__()\n",
    "        self.mha = MHA(dim=dim, head_num=head_num)\n",
    "        self.ffn = FFN(in_dim=dim, hidden_dim=hidden_dim)\n",
    "        self.add_norm = AddNorm(dim)\n",
    "        \n",
    "    def forward(self, x):\n",
    "        x = self.add_norm(x, self.mha(x, x, x))\n",
    "        x = self.add_norm(x, self.ffn(x))\n",
    "        \n",
    "        return x"
   ]
  },
  {
   "cell_type": "code",
   "execution_count": 9,
   "metadata": {},
   "outputs": [],
   "source": [
    "class TransformerEncoder(nn.Module):\n",
    "    def __init__(self, num_block, dim:int=512, hidden_dim:int=256, head_num:int=8) -> None:\n",
    "        super().__init__()\n",
    "        self.encoder = nn.Sequential(*[EncoderBlock(dim, hidden_dim, head_num) for _ in range(num_block)])\n",
    "    \n",
    "    def forward(self, x):\n",
    "        return self.encoder(x)"
   ]
  },
  {
   "cell_type": "code",
   "execution_count": 10,
   "metadata": {},
   "outputs": [
    {
     "data": {
      "text/plain": [
       "torch.Size([4, 10, 512])"
      ]
     },
     "execution_count": 10,
     "metadata": {},
     "output_type": "execute_result"
    }
   ],
   "source": [
    "a = torch.rand((4,10,512))\n",
    "\n",
    "enc = TransformerEncoder(6)\n",
    "enc(a).shape"
   ]
  },
  {
   "cell_type": "markdown",
   "metadata": {},
   "source": [
    "### Decoder"
   ]
  },
  {
   "cell_type": "code",
   "execution_count": 11,
   "metadata": {},
   "outputs": [],
   "source": [
    "class DecoderBlock(nn.Module):\n",
    "    def __init__(self, dim:int=512, hidden_dim:int=256, head_num:int=8) -> None:\n",
    "        super().__init__()\n",
    "        self.mask_mha = MHA(dim=dim, head_num=head_num)\n",
    "        self.mha = MHA(dim=dim, head_num=head_num)\n",
    "        self.ffn = FFN(in_dim=dim, hidden_dim=hidden_dim)\n",
    "        self.add_norm = AddNorm(dim)\n",
    "        \n",
    "    def forward(self, x, encoder_output):\n",
    "        x = self.add_norm(x, self.mask_mha(x, x, x, True))\n",
    "        x = self.add_norm(x, self.mha(encoder_output, encoder_output, x))\n",
    "        x = self.add_norm(x, self.ffn(x))\n",
    "        \n",
    "        return x"
   ]
  },
  {
   "cell_type": "code",
   "execution_count": 12,
   "metadata": {},
   "outputs": [],
   "source": [
    "class TransformerDecoder(nn.Module):\n",
    "    def __init__(self, num_block, dim:int=512, hidden_dim:int=256, head_num:int=8) -> None:\n",
    "        super().__init__()\n",
    "        self.decoder = nn.ModuleList([DecoderBlock(dim, hidden_dim, head_num) for _ in range(num_block)])\n",
    "    \n",
    "    def forward(self, x, encoder_output):\n",
    "        for dec in self.decoder:\n",
    "            x = dec(x, encoder_output)\n",
    "        \n",
    "        return x"
   ]
  },
  {
   "cell_type": "code",
   "execution_count": 13,
   "metadata": {},
   "outputs": [
    {
     "data": {
      "text/plain": [
       "torch.Size([4, 10, 512])"
      ]
     },
     "execution_count": 13,
     "metadata": {},
     "output_type": "execute_result"
    }
   ],
   "source": [
    "a = torch.rand((4,10,512))\n",
    "\n",
    "dec = TransformerDecoder(6)\n",
    "dec(a, a).shape"
   ]
  },
  {
   "cell_type": "markdown",
   "metadata": {},
   "source": [
    "### Transformer"
   ]
  },
  {
   "cell_type": "code",
   "execution_count": 14,
   "metadata": {},
   "outputs": [],
   "source": [
    "class Transformer(nn.Module):\n",
    "    def __init__(self, output_dim, encoder_num, decoder_num, dim:int=512, hidden_dim:int=256, head_num:int=8) -> None:\n",
    "        super().__init__()\n",
    "        \n",
    "        # encoder positional\n",
    "        self.encoder = TransformerEncoder(encoder_num, dim,hidden_dim, head_num)\n",
    "        # decoder positional\n",
    "        self.decoder = TransformerDecoder(decoder_num,dim, hidden_dim, head_num)\n",
    "        \n",
    "        self.linear = nn.Linear(dim, output_dim)\n",
    "        self.softmax = nn.Softmax(-1)\n",
    "    \n",
    "    def forward(self, x):\n",
    "        encoder_output = self.encoder(x)\n",
    "        decoder_output = self.decoder(x, encoder_output)\n",
    "        \n",
    "        output = self.linear(decoder_output)\n",
    "        output = self.softmax(output)\n",
    "        \n",
    "        return output\n",
    "        "
   ]
  },
  {
   "cell_type": "code",
   "execution_count": 15,
   "metadata": {},
   "outputs": [
    {
     "data": {
      "text/plain": [
       "torch.Size([4, 10, 10])"
      ]
     },
     "execution_count": 15,
     "metadata": {},
     "output_type": "execute_result"
    }
   ],
   "source": [
    "test_input = torch.rand((4,10,512))\n",
    "transformer = Transformer(10,6,6)\n",
    "transformer(test_input).shape"
   ]
  }
 ],
 "metadata": {
  "kernelspec": {
   "display_name": "base",
   "language": "python",
   "name": "python3"
  },
  "language_info": {
   "codemirror_mode": {
    "name": "ipython",
    "version": 3
   },
   "file_extension": ".py",
   "mimetype": "text/x-python",
   "name": "python",
   "nbconvert_exporter": "python",
   "pygments_lexer": "ipython3",
   "version": "3.11.4"
  }
 },
 "nbformat": 4,
 "nbformat_minor": 2
}
