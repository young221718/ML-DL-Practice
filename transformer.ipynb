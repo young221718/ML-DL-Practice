{
 "cells": [
  {
   "cell_type": "markdown",
   "metadata": {},
   "source": [
    "## Enviorment Import"
   ]
  },
  {
   "cell_type": "code",
   "execution_count": 48,
   "metadata": {},
   "outputs": [],
   "source": [
    "import torch\n",
    "import math\n",
    "from torch import nn"
   ]
  },
  {
   "cell_type": "markdown",
   "metadata": {},
   "source": [
    "## 전체적인 구조\n",
    "- 트랜스포머\n",
    "    - 인코더\n",
    "        - 멀티헤드 어텐션\n",
    "        - Add & Norm\n",
    "        - FPN\n",
    "        - Add & Norm\n",
    "    - 디코더\n",
    "        - 마스크 멀티헤드 어텐션\n",
    "        - Add & Norm\n",
    "        - 멀티헤드 어텐션\n",
    "        - Add & Norm\n",
    "        - FPN\n",
    "        - Add & Norm\n",
    "    - 리니어 레이어\n"
   ]
  },
  {
   "cell_type": "markdown",
   "metadata": {},
   "source": [
    "### Multi-head attention "
   ]
  },
  {
   "cell_type": "code",
   "execution_count": 57,
   "metadata": {},
   "outputs": [],
   "source": [
    "class MultiHeadAttention(nn.Module):\n",
    "\n",
    "    def __init__(self, dim_num=512, head_num=8) -> None:\n",
    "\n",
    "        super().__init__()\n",
    "        self.head_num = head_num\n",
    "        self.dim_num = dim_num\n",
    "\n",
    "        self.query_embed = nn.Linear(dim_num, dim_num)\n",
    "        self.key_embed = nn.Linear(dim_num, dim_num)\n",
    "        self.value_embed = nn.Linear(dim_num, dim_num)\n",
    "        self.output_embed = nn.Linear(dim_num, dim_num)\n",
    "\n",
    "    def scaled_dot_product_attention(self, query, key, value, mask:bool=False, scale:int=None) -> torch.Tensor:\n",
    "\n",
    "        scale_factor = 1 / math.sqrt(query.size(-1)) if scale is None else scale\n",
    "        L, S = query.size(-2), key.size(-2)\n",
    "        attn_bias = torch.zeros(L, S, dtype=query.dtype)\n",
    "        if mask:\n",
    "            temp_mask = torch.ones(L, S, dtype=torch.bool).tril(diagonal=0)\n",
    "            attn_bias.masked_fill_(temp_mask.logical_not(), float(\"-inf\"))\n",
    "            attn_bias.to(query.dtype)\n",
    "\n",
    "        attn_weight = query @ key.transpose(-2,-1) / scale_factor\n",
    "        attn_weight += attn_bias # mask\n",
    "        attn_weight = torch.softmax(attn_weight, dim=-1)\n",
    "        attn_weight = attn_weight @ value\n",
    "  \n",
    "        return attn_weight\n",
    "\n",
    "    def forward(self, query, key, value, mask:bool=False) -> torch.Tensor:\n",
    "        batch_size = query.size(0)\n",
    "        # 순서 유지 때문에 view 후 transpose 사용\n",
    "\n",
    "        query = self.query_embed(query).view(batch_size, -1, self.head_num, self.dim_num // self.head_num).transpose(1, 2)\n",
    "        key = self.key_embed(key).view(batch_size, -1, self.head_num, self.dim_num // self.head_num).transpose(1, 2)\n",
    "        value = self.value_embed(value).view(batch_size, -1, self.head_num, self.dim_num // self.head_num).transpose(1, 2)\n",
    "\n",
    "        output = self.scaled_dot_product_attention(query, key, value, mask)\n",
    "        batch_num, head_num, seq_num, hidden_num = output.size()\n",
    "        output = torch.transpose(output, 1, 2).contiguous().view((batch_size, -1, hidden_num * self.head_num))\n",
    "        output = self.output_embed(output)\n",
    "  \n",
    "        return output"
   ]
  },
  {
   "cell_type": "code",
   "execution_count": 58,
   "metadata": {},
   "outputs": [
    {
     "data": {
      "text/plain": [
       "torch.Size([4, 10, 64])"
      ]
     },
     "execution_count": 58,
     "metadata": {},
     "output_type": "execute_result"
    }
   ],
   "source": [
    "# test scaled_dot_product_attention \n",
    "q = torch.rand((4,10,64))\n",
    "k = torch.rand((4,10,64))\n",
    "v = torch.rand((4,10,64))\n",
    "\n",
    "\n",
    "mha = MultiHeadAttention(64, 8)\n",
    "\n",
    "mha(q,k,v).shape"
   ]
  },
  {
   "cell_type": "code",
   "execution_count": null,
   "metadata": {},
   "outputs": [],
   "source": []
  }
 ],
 "metadata": {
  "kernelspec": {
   "display_name": "base",
   "language": "python",
   "name": "python3"
  },
  "language_info": {
   "codemirror_mode": {
    "name": "ipython",
    "version": 3
   },
   "file_extension": ".py",
   "mimetype": "text/x-python",
   "name": "python",
   "nbconvert_exporter": "python",
   "pygments_lexer": "ipython3",
   "version": "3.11.4"
  }
 },
 "nbformat": 4,
 "nbformat_minor": 2
}
